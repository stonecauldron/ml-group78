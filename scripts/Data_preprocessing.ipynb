{
 "cells": [
  {
   "cell_type": "code",
   "execution_count": 2,
   "metadata": {
    "collapsed": true
   },
   "outputs": [],
   "source": [
    "# Useful starting lines\n",
    "%matplotlib inline\n",
    "import numpy as np\n",
    "import matplotlib.pyplot as plt\n",
    "%load_ext autoreload\n",
    "%autoreload 2"
   ]
  },
  {
   "cell_type": "markdown",
   "metadata": {},
   "source": [
    "# Data preprocessing"
   ]
  },
  {
   "cell_type": "code",
   "execution_count": 3,
   "metadata": {
    "collapsed": true
   },
   "outputs": [],
   "source": [
    "from proj1_helpers import *\n",
    "DATA_TRAIN_PATH = '../train.csv'\n",
    "y, tX, ids = load_csv_data(DATA_TRAIN_PATH)"
   ]
  },
  {
   "cell_type": "code",
   "execution_count": 56,
   "metadata": {
    "collapsed": false
   },
   "outputs": [],
   "source": [
    "def binarize_invalid_data(col, invalid_value=-999):\n",
    "    \"\"\"Transform features with -999 values into a binary categorisation\"\"\"\n",
    "    result = np.zeros((col.shape))\n",
    "    \n",
    "    invalid_value_indices = col == invalid_value\n",
    "    result[invalid_value_indices] = 0\n",
    "    result[~invalid_value_indices] = 1\n",
    "    return result\n",
    "\n",
    "def binarize_positive_negative(col):\n",
    "    \"\"\"Binary categorisation of negative and positive values\"\"\"\n",
    "    result = np.zeros((col.shape))\n",
    "    \n",
    "    positive_indices = col >= 0\n",
    "    result[positive_indices] = 1\n",
    "    result[~positive_indices] = 0\n",
    "    return result\n",
    "\n",
    "def feature_scaling(col, min_range=-1, max_range=1):\n",
    "    \"\"\"Scale the values of a feature to the range min_range to max_range\"\"\"\n",
    "    min_val = np.min(col)\n",
    "    max_val = np.max(col)\n",
    "    \n",
    "    return min_range + ((col - min_val) * (max_range - min_range))/(max_val - min_val)\n",
    "\n",
    "def standardize(col):\n",
    "    \"\"\"Standardize a feature vector\"\"\"\n",
    "    return (col - np.mean(col)) / np.std(col)\n",
    "\n",
    "def generate_binary_features(col):\n",
    "    \"\"\"Generate binary features from a discrete feature\"\"\"\n",
    "    discrete_cols = []\n",
    "    \n",
    "    for i in range(int(col.max() + 1)):\n",
    "        discrete_indices = col == i\n",
    "    \n",
    "        discrete_col = np.zeros(col.shape)\n",
    "        discrete_col[discrete_indices] = 1\n",
    "        discrete_col[~discrete_indices] = 0\n",
    "    \n",
    "        discrete_cols.append(discrete_col)\n",
    "    return discrete_cols\n",
    "    "
   ]
  },
  {
   "cell_type": "code",
   "execution_count": 50,
   "metadata": {
    "collapsed": false
   },
   "outputs": [
    {
     "data": {
      "text/plain": [
       "(2,)"
      ]
     },
     "execution_count": 50,
     "metadata": {},
     "output_type": "execute_result"
    }
   ],
   "source": [
    "col = tX[:,22]\n",
    "\n",
    "discrete_cols = []\n",
    "for i in range(int(col.max() + 1)):\n",
    "    discrete_indices = col == i\n",
    "    \n",
    "    discrete_col = np.zeros(col.shape)\n",
    "    discrete_col[discrete_indices] = 1\n",
    "    discrete_col[~discrete_indices] = 0\n",
    "    \n",
    "    discrete_cols.append(discrete_col)\n",
    "A = np.asarray(discrete_cols).T.shape\n",
    "\n",
    "lst = []\n",
    "lst.append(tX[:,0])\n",
    "lst.append(A)\n",
    "np.asarray(lst"
   ]
  },
  {
   "cell_type": "code",
   "execution_count": 60,
   "metadata": {
    "collapsed": false
   },
   "outputs": [
    {
     "data": {
      "text/plain": [
       "(250000, 33)"
      ]
     },
     "execution_count": 60,
     "metadata": {},
     "output_type": "execute_result"
    }
   ],
   "source": [
    "(N, D) = tX.shape\n",
    "preprocessed_tX = []\n",
    "\n",
    "for d in range(D):\n",
    "    col = tX[:,d]\n",
    "    \n",
    "    # binarize invalid values\n",
    "    if d == 0 or d == 4 or d == 5 or d == 6 or d == 12 or d == 23 or d == 24 or d == 25 or d == 26 or d == 27 or d == 28:\n",
    "        col = binarize_invalid_data(col)\n",
    "        preprocessed_tX.append(col)\n",
    "        \n",
    "    # binarize feature 11\n",
    "    elif d == 11:\n",
    "        col = binarize_positive_negative(col)\n",
    "        preprocessed_tX.append(col)\n",
    "    \n",
    "    # scale uniform features to the -1, 1 range\n",
    "    elif d == 14 or d == 15 or d == 17 or d == 18 or d == 20:\n",
    "        col = feature_scaling(col)\n",
    "        preprocessed_tX.append(col)\n",
    "    \n",
    "    # standardize the feature that have an exponential family distribution\n",
    "    elif d == 1 or d == 2 or d == 3 or d == 7 or d == 8 or d == 9 or d == 10 or d == 11 or d == 13 or d == 16 or d == 19 or d == 21 or d == 29:\n",
    "        col = standardize(col)\n",
    "        preprocessed_tX.append(col)\n",
    "    \n",
    "    # convert discrete feature into multiple binary features\n",
    "    elif d == 22:\n",
    "        cols = generate_binary_features(col)\n",
    "        for col in cols:\n",
    "            preprocessed_tX.append(col)\n",
    "            \n",
    "    else:\n",
    "        preprocessed_tX.append(col)\n",
    "np.asarray(preprocessed_tX).T.shape        "
   ]
  },
  {
   "cell_type": "code",
   "execution_count": null,
   "metadata": {
    "collapsed": true
   },
   "outputs": [],
   "source": []
  }
 ],
 "metadata": {
  "kernelspec": {
   "display_name": "Python 3",
   "language": "python",
   "name": "python3"
  },
  "language_info": {
   "codemirror_mode": {
    "name": "ipython",
    "version": 3
   },
   "file_extension": ".py",
   "mimetype": "text/x-python",
   "name": "python",
   "nbconvert_exporter": "python",
   "pygments_lexer": "ipython3",
   "version": "3.5.2"
  }
 },
 "nbformat": 4,
 "nbformat_minor": 1
}
